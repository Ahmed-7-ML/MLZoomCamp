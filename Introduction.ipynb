{
 "cells": [
  {
   "cell_type": "markdown",
   "id": "dfa5e24b",
   "metadata": {},
   "source": [
    "## *`Introduciton to Machine Learning`*"
   ]
  },
  {
   "cell_type": "code",
   "execution_count": 87,
   "id": "df93b188",
   "metadata": {},
   "outputs": [
    {
     "data": {
      "text/plain": [
       "('2.2.3', '2.1.3')"
      ]
     },
     "execution_count": 87,
     "metadata": {},
     "output_type": "execute_result"
    }
   ],
   "source": [
    "import numpy as np\n",
    "import pandas as pd\n",
    "\n",
    "pd.__version__, np.__version__"
   ]
  },
  {
   "cell_type": "code",
   "execution_count": 88,
   "id": "0f227802",
   "metadata": {},
   "outputs": [
    {
     "name": "stdout",
     "output_type": "stream",
     "text": [
      "Downloaded file: car_fuel_efficiency.csv\n"
     ]
    }
   ],
   "source": [
    "import wget\n",
    "url = 'https://raw.githubusercontent.com/alexeygrigorev/datasets/master/car_fuel_efficiency.csv'\n",
    "file = wget.download(url)\n",
    "\n",
    "print(f\"Downloaded file: {file}\")"
   ]
  },
  {
   "cell_type": "code",
   "execution_count": 89,
   "id": "da788f0c",
   "metadata": {},
   "outputs": [
    {
     "data": {
      "application/vnd.microsoft.datawrangler.viewer.v0+json": {
       "columns": [
        {
         "name": "index",
         "rawType": "int64",
         "type": "integer"
        },
        {
         "name": "engine_displacement",
         "rawType": "int64",
         "type": "integer"
        },
        {
         "name": "num_cylinders",
         "rawType": "float64",
         "type": "float"
        },
        {
         "name": "horsepower",
         "rawType": "float64",
         "type": "float"
        },
        {
         "name": "vehicle_weight",
         "rawType": "float64",
         "type": "float"
        },
        {
         "name": "acceleration",
         "rawType": "float64",
         "type": "float"
        },
        {
         "name": "model_year",
         "rawType": "int64",
         "type": "integer"
        },
        {
         "name": "origin",
         "rawType": "object",
         "type": "string"
        },
        {
         "name": "fuel_type",
         "rawType": "object",
         "type": "string"
        },
        {
         "name": "drivetrain",
         "rawType": "object",
         "type": "string"
        },
        {
         "name": "num_doors",
         "rawType": "float64",
         "type": "float"
        },
        {
         "name": "fuel_efficiency_mpg",
         "rawType": "float64",
         "type": "float"
        }
       ],
       "ref": "fb0f823b-d735-4641-a5d2-07ca8f503b21",
       "rows": [
        [
         "0",
         "170",
         "3.0",
         "159.0",
         "3413.433758606219",
         "17.7",
         "2003",
         "Europe",
         "Gasoline",
         "All-wheel drive",
         "0.0",
         "13.231728906241411"
        ],
        [
         "1",
         "130",
         "5.0",
         "97.0",
         "3149.664934220036",
         "17.8",
         "2007",
         "USA",
         "Gasoline",
         "Front-wheel drive",
         "0.0",
         "13.688217435463793"
        ],
        [
         "2",
         "170",
         null,
         "78.0",
         "3079.03899736884",
         "15.1",
         "2018",
         "Europe",
         "Gasoline",
         "Front-wheel drive",
         "0.0",
         "14.246340998160866"
        ],
        [
         "3",
         "220",
         "4.0",
         null,
         "2542.392401828378",
         "20.2",
         "2009",
         "USA",
         "Diesel",
         "All-wheel drive",
         "2.0",
         "16.91273559598635"
        ],
        [
         "4",
         "210",
         "1.0",
         "140.0",
         "3460.870989989018",
         "14.4",
         "2009",
         "Europe",
         "Gasoline",
         "All-wheel drive",
         "2.0",
         "12.488369121964562"
        ]
       ],
       "shape": {
        "columns": 11,
        "rows": 5
       }
      },
      "text/html": [
       "<div>\n",
       "<style scoped>\n",
       "    .dataframe tbody tr th:only-of-type {\n",
       "        vertical-align: middle;\n",
       "    }\n",
       "\n",
       "    .dataframe tbody tr th {\n",
       "        vertical-align: top;\n",
       "    }\n",
       "\n",
       "    .dataframe thead th {\n",
       "        text-align: right;\n",
       "    }\n",
       "</style>\n",
       "<table border=\"1\" class=\"dataframe\">\n",
       "  <thead>\n",
       "    <tr style=\"text-align: right;\">\n",
       "      <th></th>\n",
       "      <th>engine_displacement</th>\n",
       "      <th>num_cylinders</th>\n",
       "      <th>horsepower</th>\n",
       "      <th>vehicle_weight</th>\n",
       "      <th>acceleration</th>\n",
       "      <th>model_year</th>\n",
       "      <th>origin</th>\n",
       "      <th>fuel_type</th>\n",
       "      <th>drivetrain</th>\n",
       "      <th>num_doors</th>\n",
       "      <th>fuel_efficiency_mpg</th>\n",
       "    </tr>\n",
       "  </thead>\n",
       "  <tbody>\n",
       "    <tr>\n",
       "      <th>0</th>\n",
       "      <td>170</td>\n",
       "      <td>3.0</td>\n",
       "      <td>159.0</td>\n",
       "      <td>3413.433759</td>\n",
       "      <td>17.7</td>\n",
       "      <td>2003</td>\n",
       "      <td>Europe</td>\n",
       "      <td>Gasoline</td>\n",
       "      <td>All-wheel drive</td>\n",
       "      <td>0.0</td>\n",
       "      <td>13.231729</td>\n",
       "    </tr>\n",
       "    <tr>\n",
       "      <th>1</th>\n",
       "      <td>130</td>\n",
       "      <td>5.0</td>\n",
       "      <td>97.0</td>\n",
       "      <td>3149.664934</td>\n",
       "      <td>17.8</td>\n",
       "      <td>2007</td>\n",
       "      <td>USA</td>\n",
       "      <td>Gasoline</td>\n",
       "      <td>Front-wheel drive</td>\n",
       "      <td>0.0</td>\n",
       "      <td>13.688217</td>\n",
       "    </tr>\n",
       "    <tr>\n",
       "      <th>2</th>\n",
       "      <td>170</td>\n",
       "      <td>NaN</td>\n",
       "      <td>78.0</td>\n",
       "      <td>3079.038997</td>\n",
       "      <td>15.1</td>\n",
       "      <td>2018</td>\n",
       "      <td>Europe</td>\n",
       "      <td>Gasoline</td>\n",
       "      <td>Front-wheel drive</td>\n",
       "      <td>0.0</td>\n",
       "      <td>14.246341</td>\n",
       "    </tr>\n",
       "    <tr>\n",
       "      <th>3</th>\n",
       "      <td>220</td>\n",
       "      <td>4.0</td>\n",
       "      <td>NaN</td>\n",
       "      <td>2542.392402</td>\n",
       "      <td>20.2</td>\n",
       "      <td>2009</td>\n",
       "      <td>USA</td>\n",
       "      <td>Diesel</td>\n",
       "      <td>All-wheel drive</td>\n",
       "      <td>2.0</td>\n",
       "      <td>16.912736</td>\n",
       "    </tr>\n",
       "    <tr>\n",
       "      <th>4</th>\n",
       "      <td>210</td>\n",
       "      <td>1.0</td>\n",
       "      <td>140.0</td>\n",
       "      <td>3460.870990</td>\n",
       "      <td>14.4</td>\n",
       "      <td>2009</td>\n",
       "      <td>Europe</td>\n",
       "      <td>Gasoline</td>\n",
       "      <td>All-wheel drive</td>\n",
       "      <td>2.0</td>\n",
       "      <td>12.488369</td>\n",
       "    </tr>\n",
       "  </tbody>\n",
       "</table>\n",
       "</div>"
      ],
      "text/plain": [
       "   engine_displacement  num_cylinders  horsepower  vehicle_weight  \\\n",
       "0                  170            3.0       159.0     3413.433759   \n",
       "1                  130            5.0        97.0     3149.664934   \n",
       "2                  170            NaN        78.0     3079.038997   \n",
       "3                  220            4.0         NaN     2542.392402   \n",
       "4                  210            1.0       140.0     3460.870990   \n",
       "\n",
       "   acceleration  model_year  origin fuel_type         drivetrain  num_doors  \\\n",
       "0          17.7        2003  Europe  Gasoline    All-wheel drive        0.0   \n",
       "1          17.8        2007     USA  Gasoline  Front-wheel drive        0.0   \n",
       "2          15.1        2018  Europe  Gasoline  Front-wheel drive        0.0   \n",
       "3          20.2        2009     USA    Diesel    All-wheel drive        2.0   \n",
       "4          14.4        2009  Europe  Gasoline    All-wheel drive        2.0   \n",
       "\n",
       "   fuel_efficiency_mpg  \n",
       "0            13.231729  \n",
       "1            13.688217  \n",
       "2            14.246341  \n",
       "3            16.912736  \n",
       "4            12.488369  "
      ]
     },
     "execution_count": 89,
     "metadata": {},
     "output_type": "execute_result"
    }
   ],
   "source": [
    "df = pd.read_csv('car_fuel_efficiency.csv')\n",
    "\n",
    "df.head()"
   ]
  },
  {
   "cell_type": "code",
   "execution_count": 90,
   "metadata": {},
   "outputs": [
    {
     "name": "stdout",
     "output_type": "stream",
     "text": [
      "Record Count: 9704\n"
     ]
    }
   ],
   "source": [
    "# How many Records in the dataset?\n",
    "\n",
    "print(f\"Record Count: {len(df)}\") # df.shape[0]"
   ]
  },
  {
   "cell_type": "code",
   "execution_count": 91,
   "id": "f079d42f",
   "metadata": {},
   "outputs": [
    {
     "name": "stdout",
     "output_type": "stream",
     "text": [
      "Fuel Types : 2\n"
     ]
    },
    {
     "data": {
      "application/vnd.microsoft.datawrangler.viewer.v0+json": {
       "columns": [
        {
         "name": "fuel_type",
         "rawType": "object",
         "type": "string"
        },
        {
         "name": "count",
         "rawType": "int64",
         "type": "integer"
        }
       ],
       "ref": "871084c0-4f01-4a49-90ab-2e2b6a1234cb",
       "rows": [
        [
         "Gasoline",
         "4898"
        ],
        [
         "Diesel",
         "4806"
        ]
       ],
       "shape": {
        "columns": 1,
        "rows": 2
       }
      },
      "text/plain": [
       "fuel_type\n",
       "Gasoline    4898\n",
       "Diesel      4806\n",
       "Name: count, dtype: int64"
      ]
     },
     "execution_count": 91,
     "metadata": {},
     "output_type": "execute_result"
    }
   ],
   "source": [
    "# How many fuel types are presented in the dataset?\n",
    "\n",
    "print(f\"Fuel Types : {df['fuel_type'].nunique()}\")\n",
    "\n",
    "df['fuel_type'].value_counts()"
   ]
  },
  {
   "cell_type": "code",
   "execution_count": 92,
   "id": "6c5df6e2",
   "metadata": {},
   "outputs": [
    {
     "data": {
      "application/vnd.microsoft.datawrangler.viewer.v0+json": {
       "columns": [
        {
         "name": "index",
         "rawType": "object",
         "type": "string"
        },
        {
         "name": "0",
         "rawType": "int64",
         "type": "integer"
        }
       ],
       "ref": "d2a852f8-5cec-4765-a7ed-5a265ff48b1f",
       "rows": [
        [
         "engine_displacement",
         "0"
        ],
        [
         "num_cylinders",
         "482"
        ],
        [
         "horsepower",
         "708"
        ],
        [
         "vehicle_weight",
         "0"
        ],
        [
         "acceleration",
         "930"
        ],
        [
         "model_year",
         "0"
        ],
        [
         "origin",
         "0"
        ],
        [
         "fuel_type",
         "0"
        ],
        [
         "drivetrain",
         "0"
        ],
        [
         "num_doors",
         "502"
        ],
        [
         "fuel_efficiency_mpg",
         "0"
        ]
       ],
       "shape": {
        "columns": 1,
        "rows": 11
       }
      },
      "text/plain": [
       "engine_displacement      0\n",
       "num_cylinders          482\n",
       "horsepower             708\n",
       "vehicle_weight           0\n",
       "acceleration           930\n",
       "model_year               0\n",
       "origin                   0\n",
       "fuel_type                0\n",
       "drivetrain               0\n",
       "num_doors              502\n",
       "fuel_efficiency_mpg      0\n",
       "dtype: int64"
      ]
     },
     "execution_count": 92,
     "metadata": {},
     "output_type": "execute_result"
    }
   ],
   "source": [
    "# How many columns in the dataset have missing values?\n",
    "df.isna().sum()"
   ]
  },
  {
   "cell_type": "code",
   "execution_count": 93,
   "id": "6df0ed3e",
   "metadata": {},
   "outputs": [
    {
     "name": "stdout",
     "output_type": "stream",
     "text": [
      "Columns with missing values: 4\n"
     ]
    }
   ],
   "source": [
    "counter = 0\n",
    "for i in df.isna().sum():\n",
    "    if i > 0:\n",
    "        counter += 1\n",
    "\n",
    "print(f\"Columns with missing values: {counter}\")"
   ]
  },
  {
   "cell_type": "code",
   "execution_count": 94,
   "metadata": {},
   "outputs": [
    {
     "data": {
      "application/vnd.microsoft.datawrangler.viewer.v0+json": {
       "columns": [
        {
         "name": "origin",
         "rawType": "object",
         "type": "string"
        },
        {
         "name": "count",
         "rawType": "int64",
         "type": "integer"
        }
       ],
       "ref": "39c0ae7d-e2ba-4f07-88f8-5888d716038b",
       "rows": [
        [
         "Europe",
         "3254"
        ],
        [
         "Asia",
         "3247"
        ],
        [
         "USA",
         "3203"
        ]
       ],
       "shape": {
        "columns": 1,
        "rows": 3
       }
      },
      "text/plain": [
       "origin\n",
       "Europe    3254\n",
       "Asia      3247\n",
       "USA       3203\n",
       "Name: count, dtype: int64"
      ]
     },
     "execution_count": 94,
     "metadata": {},
     "output_type": "execute_result"
    }
   ],
   "source": [
    "# What's the maximum fuel efficiency of cars from Asia?\n",
    "df['origin'].value_counts()"
   ]
  },
  {
   "cell_type": "code",
   "execution_count": 95,
   "id": "8ff858dd",
   "metadata": {},
   "outputs": [
    {
     "data": {
      "application/vnd.microsoft.datawrangler.viewer.v0+json": {
       "columns": [
        {
         "name": "origin",
         "rawType": "object",
         "type": "string"
        },
        {
         "name": "fuel_efficiency_mpg",
         "rawType": "float64",
         "type": "float"
        }
       ],
       "ref": "0e654328-e8d6-4d23-abf3-dd677c6728de",
       "rows": [
        [
         "Asia",
         "23.76"
        ],
        [
         "Europe",
         "25.97"
        ],
        [
         "USA",
         "24.97"
        ]
       ],
       "shape": {
        "columns": 1,
        "rows": 3
       }
      },
      "text/plain": [
       "origin\n",
       "Asia      23.76\n",
       "Europe    25.97\n",
       "USA       24.97\n",
       "Name: fuel_efficiency_mpg, dtype: float64"
      ]
     },
     "execution_count": 95,
     "metadata": {},
     "output_type": "execute_result"
    }
   ],
   "source": [
    "round(df.groupby('origin')['fuel_efficiency_mpg'].max(), 2)"
   ]
  },
  {
   "cell_type": "markdown",
   "id": "ce5472e6",
   "metadata": {},
   "source": [
    "1. Find the median value of horsepower column in the dataset.\n",
    "2. Next, calculate the most frequent value of the same horsepower column.\n",
    "3. Use fillna method to fill the missing values in horsepower column with the most frequent value from the previous step.\n",
    "4. Now, calculate the median value of horsepower once again."
   ]
  },
  {
   "cell_type": "code",
   "execution_count": 96,
   "id": "0ab48ca0",
   "metadata": {},
   "outputs": [
    {
     "data": {
      "text/plain": [
       "(149.0, 152.0)"
      ]
     },
     "execution_count": 96,
     "metadata": {},
     "output_type": "execute_result"
    }
   ],
   "source": [
    "median1 = df['horsepower'].median() # Before filling missing values\n",
    "\n",
    "most_frequent = df['horsepower'].mode()[0] # Use this to fill the missing values\n",
    "df['horsepower'] = df['horsepower'].fillna(most_frequent)\n",
    "\n",
    "median2 = df['horsepower'].median() # After filling missing values\n",
    "\n",
    "median1, median2"
   ]
  },
  {
   "cell_type": "markdown",
   "id": "0db3528c",
   "metadata": {},
   "source": [
    "1. Select all the cars from Asia\n",
    "2. Select only columns vehicle_weight and model_year\n",
    "3. Select the first 7 values\n",
    "4. Get the underlying NumPy array. Let's call it X.\n",
    "5. Compute matrix-matrix multiplication between the transpose of X and X. To get the transpose, use X.T. Let's call the result XTX.\n",
    "6. Invert XTX.\n",
    "7. Create an array y with values [1100, 1300, 800, 900, 1000, 1100, 1200].\n",
    "8. Multiply the inverse of XTX with the transpose of X, and then multiply the result by y. Call the result w.\n",
    "9. What's the sum of all the elements of the result?"
   ]
  },
  {
   "cell_type": "code",
   "execution_count": 97,
   "id": "668003c0",
   "metadata": {},
   "outputs": [
    {
     "data": {
      "application/vnd.microsoft.datawrangler.viewer.v0+json": {
       "columns": [
        {
         "name": "index",
         "rawType": "int64",
         "type": "integer"
        },
        {
         "name": "vehicle_weight",
         "rawType": "float64",
         "type": "float"
        },
        {
         "name": "model_year",
         "rawType": "int64",
         "type": "integer"
        }
       ],
       "ref": "891be14a-1af8-449c-91bd-81bef55f203a",
       "rows": [
        [
         "8",
         "2714.219309645285",
         "2016"
        ],
        [
         "12",
         "2783.8689742437728",
         "2010"
        ],
        [
         "14",
         "3582.687367715132",
         "2007"
        ],
        [
         "20",
         "2231.8081416029345",
         "2011"
        ],
        [
         "21",
         "2659.431450757995",
         "2016"
        ],
        [
         "34",
         "2844.2275338857653",
         "2014"
        ],
        [
         "38",
         "3761.9940381922206",
         "2019"
        ]
       ],
       "shape": {
        "columns": 2,
        "rows": 7
       }
      },
      "text/html": [
       "<div>\n",
       "<style scoped>\n",
       "    .dataframe tbody tr th:only-of-type {\n",
       "        vertical-align: middle;\n",
       "    }\n",
       "\n",
       "    .dataframe tbody tr th {\n",
       "        vertical-align: top;\n",
       "    }\n",
       "\n",
       "    .dataframe thead th {\n",
       "        text-align: right;\n",
       "    }\n",
       "</style>\n",
       "<table border=\"1\" class=\"dataframe\">\n",
       "  <thead>\n",
       "    <tr style=\"text-align: right;\">\n",
       "      <th></th>\n",
       "      <th>vehicle_weight</th>\n",
       "      <th>model_year</th>\n",
       "    </tr>\n",
       "  </thead>\n",
       "  <tbody>\n",
       "    <tr>\n",
       "      <th>8</th>\n",
       "      <td>2714.219310</td>\n",
       "      <td>2016</td>\n",
       "    </tr>\n",
       "    <tr>\n",
       "      <th>12</th>\n",
       "      <td>2783.868974</td>\n",
       "      <td>2010</td>\n",
       "    </tr>\n",
       "    <tr>\n",
       "      <th>14</th>\n",
       "      <td>3582.687368</td>\n",
       "      <td>2007</td>\n",
       "    </tr>\n",
       "    <tr>\n",
       "      <th>20</th>\n",
       "      <td>2231.808142</td>\n",
       "      <td>2011</td>\n",
       "    </tr>\n",
       "    <tr>\n",
       "      <th>21</th>\n",
       "      <td>2659.431451</td>\n",
       "      <td>2016</td>\n",
       "    </tr>\n",
       "    <tr>\n",
       "      <th>34</th>\n",
       "      <td>2844.227534</td>\n",
       "      <td>2014</td>\n",
       "    </tr>\n",
       "    <tr>\n",
       "      <th>38</th>\n",
       "      <td>3761.994038</td>\n",
       "      <td>2019</td>\n",
       "    </tr>\n",
       "  </tbody>\n",
       "</table>\n",
       "</div>"
      ],
      "text/plain": [
       "    vehicle_weight  model_year\n",
       "8      2714.219310        2016\n",
       "12     2783.868974        2010\n",
       "14     3582.687368        2007\n",
       "20     2231.808142        2011\n",
       "21     2659.431451        2016\n",
       "34     2844.227534        2014\n",
       "38     3761.994038        2019"
      ]
     },
     "execution_count": 97,
     "metadata": {},
     "output_type": "execute_result"
    }
   ],
   "source": [
    "df = df.query(\"origin == 'Asia'\").loc[:, ['vehicle_weight' ,'model_year']].head(7)\n",
    "\n",
    "df"
   ]
  },
  {
   "cell_type": "code",
   "execution_count": 98,
   "id": "ab2e0dad",
   "metadata": {},
   "outputs": [
    {
     "data": {
      "text/plain": [
       "((7, 2),\n",
       " array([[2714.21930965, 2016.        ],\n",
       "        [2783.86897424, 2010.        ],\n",
       "        [3582.68736772, 2007.        ],\n",
       "        [2231.8081416 , 2011.        ],\n",
       "        [2659.43145076, 2016.        ],\n",
       "        [2844.22753389, 2014.        ],\n",
       "        [3761.99403819, 2019.        ]]))"
      ]
     },
     "execution_count": 98,
     "metadata": {},
     "output_type": "execute_result"
    }
   ],
   "source": [
    "X = df.values\n",
    "\n",
    "# Transpose of X\n",
    "XT = X.T\n",
    "\n",
    "# Matrix Multiplication of X transpose and X\n",
    "XTX = X@XT\n",
    "\n",
    "X.shape, X"
   ]
  },
  {
   "cell_type": "code",
   "execution_count": 99,
   "id": "fed0e845",
   "metadata": {},
   "outputs": [
    {
     "data": {
      "text/plain": [
       "((2, 7),\n",
       " array([[2714.21930965, 2783.86897424, 3582.68736772, 2231.8081416 ,\n",
       "         2659.43145076, 2844.22753389, 3761.99403819],\n",
       "        [2016.        , 2010.        , 2007.        , 2011.        ,\n",
       "         2016.        , 2014.        , 2019.        ]]))"
      ]
     },
     "execution_count": 99,
     "metadata": {},
     "output_type": "execute_result"
    }
   ],
   "source": [
    "XT.shape, XT"
   ]
  },
  {
   "cell_type": "code",
   "execution_count": 100,
   "id": "625eccc5",
   "metadata": {},
   "outputs": [
    {
     "data": {
      "text/plain": [
       "((7, 7),\n",
       " array([[11431242.46085133, 11608190.92541486, 13770311.23387465,\n",
       "         10111792.75336224, 11282536.19632532, 11780081.29349753,\n",
       "         14281180.86123177],\n",
       "        [11608190.92541486, 11790026.46575708, 14007802.20739725,\n",
       "         10255171.44187306, 11455668.70489329, 11966096.78727446,\n",
       "         14531088.48421337],\n",
       "        [13770311.23387465, 14007802.20739725, 16863697.77478558,\n",
       "         12031947.83608462, 13574023.463935  , 14232076.05656009,\n",
       "         17530181.51805091],\n",
       "        [10111792.75336224, 10255171.44187306, 12031947.83608462,\n",
       "          9025088.58092514,  9989516.7638366 , 10397924.16669749,\n",
       "         12456257.9230991 ],\n",
       "        [11282536.19632532, 11455668.70489329, 13574023.463935  ,\n",
       "          9989516.7638366 , 11136831.64128077, 11624252.15672766,\n",
       "         14075069.26273247],\n",
       "        [11780081.29349753, 11966096.78727446, 14232076.05656009,\n",
       "         10397924.16669749, 11624252.15672766, 12145826.2645139 ,\n",
       "         14766233.02574041],\n",
       "        [14281180.86123177, 14531088.48421337, 17530181.51805091,\n",
       "         12456257.9230991 , 14075069.26273247, 14766233.02574041,\n",
       "         18228960.14339381]]))"
      ]
     },
     "execution_count": 100,
     "metadata": {},
     "output_type": "execute_result"
    }
   ],
   "source": [
    "XTX.shape, XTX"
   ]
  },
  {
   "cell_type": "code",
   "execution_count": 101,
   "id": "443f28c7",
   "metadata": {},
   "outputs": [
    {
     "data": {
      "text/plain": [
       "((7, 7),\n",
       " array([[11431242.46085133, 11608190.92541486, 13770311.23387465,\n",
       "         10111792.75336224, 11282536.19632532, 11780081.29349753,\n",
       "         14281180.86123177],\n",
       "        [11608190.92541486, 11790026.46575708, 14007802.20739725,\n",
       "         10255171.44187306, 11455668.70489329, 11966096.78727446,\n",
       "         14531088.48421337],\n",
       "        [13770311.23387465, 14007802.20739725, 16863697.77478558,\n",
       "         12031947.83608462, 13574023.463935  , 14232076.05656009,\n",
       "         17530181.51805091],\n",
       "        [10111792.75336224, 10255171.44187306, 12031947.83608462,\n",
       "          9025088.58092514,  9989516.7638366 , 10397924.16669749,\n",
       "         12456257.9230991 ],\n",
       "        [11282536.19632532, 11455668.70489329, 13574023.463935  ,\n",
       "          9989516.7638366 , 11136831.64128077, 11624252.15672766,\n",
       "         14075069.26273247],\n",
       "        [11780081.29349753, 11966096.78727446, 14232076.05656009,\n",
       "         10397924.16669749, 11624252.15672766, 12145826.2645139 ,\n",
       "         14766233.02574041],\n",
       "        [14281180.86123177, 14531088.48421337, 17530181.51805091,\n",
       "         12456257.9230991 , 14075069.26273247, 14766233.02574041,\n",
       "         18228960.14339381]]))"
      ]
     },
     "execution_count": 101,
     "metadata": {},
     "output_type": "execute_result"
    }
   ],
   "source": [
    "X.dot(XT).shape, X.dot(XT)"
   ]
  },
  {
   "cell_type": "code",
   "execution_count": 102,
   "id": "6c2020e5",
   "metadata": {},
   "outputs": [
    {
     "name": "stdout",
     "output_type": "stream",
     "text": [
      "Matrix is invertible\n",
      "Determinant: 3.1533446453343684e-31\n",
      "Inverse of Matrix:\n",
      "[[ 6.27784782e+08  4.52348582e+08 -5.52589667e+08 -5.04518657e+08\n",
      "  -1.36497506e+08 -9.70745174e+07  2.07769569e+08]\n",
      " [ 6.52427761e+08  1.18496810e+09 -8.15933475e+08 -7.54720098e+08\n",
      "  -7.08834488e+08  2.53306835e+08  1.86771033e+08]\n",
      " [-4.82034184e+08 -5.85397198e+08  3.79915957e+08  6.66310906e+08\n",
      "   1.18051009e+08 -1.47095872e+08  5.16329750e+07]\n",
      " [-4.86725764e+08 -5.86851309e+08  7.06448581e+08  6.82137781e+08\n",
      "   2.06347119e+08 -3.29606193e+08 -1.88697388e+08]\n",
      " [-2.37576087e+08 -7.37561522e+08  2.26902495e+08  2.89910408e+08\n",
      "   1.50145296e+08  3.48995157e+08 -4.08718420e+07]\n",
      " [-2.28618838e+08  1.97697960e+08 -2.05812130e+07 -2.25519129e+08\n",
      "   3.60824331e+08 -2.92220029e+06 -8.08263491e+07]\n",
      " [ 1.52870693e+08  7.43387198e+07  7.67225188e+07 -1.51179749e+08\n",
      "   9.23761238e+06 -2.62872552e+07 -1.35338415e+08]]\n",
      "Shape of Inverse Matrix: (7, 7)\n"
     ]
    }
   ],
   "source": [
    "# Inverse of Matrix\n",
    "\n",
    "det = np.linalg.det(XTX)\n",
    "\n",
    "if det != 0:\n",
    "    XTX_inv = np.linalg.inv(XTX)\n",
    "    print(\"Matrix is invertible\")\n",
    "    print(f\"Determinant: {det}\")\n",
    "    print(f\"Inverse of Matrix:\\n{XTX_inv}\")\n",
    "    print(f\"Shape of Inverse Matrix: {XTX_inv.shape}\")\n",
    "else:\n",
    "    print(\"Matrix is not invertible\")"
   ]
  },
  {
   "cell_type": "code",
   "execution_count": 103,
   "id": "533f18d0",
   "metadata": {},
   "outputs": [
    {
     "data": {
      "text/plain": [
       "((7,), array([1100, 1300,  800,  900, 1000, 1100, 1200]))"
      ]
     },
     "execution_count": 103,
     "metadata": {},
     "output_type": "execute_result"
    }
   ],
   "source": [
    "y = np.array([1100, 1300, 800, 900, 1000, 1100, 1200])\n",
    "\n",
    "y.shape, y"
   ]
  },
  {
   "cell_type": "code",
   "execution_count": 104,
   "id": "b1c73f5b",
   "metadata": {},
   "outputs": [
    {
     "data": {
      "text/plain": [
       "((7, 7), (2, 7))"
      ]
     },
     "execution_count": 104,
     "metadata": {},
     "output_type": "execute_result"
    }
   ],
   "source": [
    "XTX_inv.shape , XT.shape"
   ]
  },
  {
   "cell_type": "code",
   "execution_count": 105,
   "id": "d273116e",
   "metadata": {},
   "outputs": [
    {
     "data": {
      "text/plain": [
       "((2,), array([ 1.10015869, -0.09307861]))"
      ]
     },
     "execution_count": 105,
     "metadata": {},
     "output_type": "execute_result"
    }
   ],
   "source": [
    "w = XT.dot(XTX_inv)\n",
    "w = w @ y\n",
    "\n",
    "w.shape, w"
   ]
  },
  {
   "cell_type": "code",
   "execution_count": 106,
   "id": "8f5f460d",
   "metadata": {},
   "outputs": [
    {
     "data": {
      "text/plain": [
       "np.float64(1.007080078125)"
      ]
     },
     "execution_count": 106,
     "metadata": {},
     "output_type": "execute_result"
    }
   ],
   "source": [
    "w.sum()"
   ]
  }
 ],
 "metadata": {
  "kernelspec": {
   "display_name": "base",
   "language": "python",
   "name": "python3"
  },
  "language_info": {
   "codemirror_mode": {
    "name": "ipython",
    "version": 3
   },
   "file_extension": ".py",
   "mimetype": "text/x-python",
   "name": "python",
   "nbconvert_exporter": "python",
   "pygments_lexer": "ipython3",
   "version": "3.13.5"
  }
 },
 "nbformat": 4,
 "nbformat_minor": 5
}

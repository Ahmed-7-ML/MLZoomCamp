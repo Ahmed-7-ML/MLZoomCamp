{
 "cells": [
  {
   "cell_type": "code",
   "execution_count": 233,
   "id": "b49d109a",
   "metadata": {},
   "outputs": [],
   "source": [
    "import pandas as pd\n",
    "import numpy as np\n",
    "import matplotlib.pyplot as plt\n",
    "import seaborn as sns\n",
    "\n",
    "%matplotlib inline"
   ]
  },
  {
   "cell_type": "markdown",
   "id": "06c98006",
   "metadata": {},
   "source": [
    "- Use only the following columns:\n",
    "\n",
    "- 'engine_displacement',\n",
    "- 'horsepower',\n",
    "- 'vehicle_weight',\n",
    "- 'model_year',\n",
    "- 'fuel_efficiency_mpg'"
   ]
  },
  {
   "cell_type": "code",
   "execution_count": 234,
   "id": "2f1f6cfb",
   "metadata": {},
   "outputs": [
    {
     "data": {
      "application/vnd.microsoft.datawrangler.viewer.v0+json": {
       "columns": [
        {
         "name": "index",
         "rawType": "int64",
         "type": "integer"
        },
        {
         "name": "engine_displacement",
         "rawType": "int64",
         "type": "integer"
        },
        {
         "name": "num_cylinders",
         "rawType": "float64",
         "type": "float"
        },
        {
         "name": "horsepower",
         "rawType": "float64",
         "type": "float"
        },
        {
         "name": "vehicle_weight",
         "rawType": "float64",
         "type": "float"
        },
        {
         "name": "acceleration",
         "rawType": "float64",
         "type": "float"
        },
        {
         "name": "model_year",
         "rawType": "int64",
         "type": "integer"
        },
        {
         "name": "origin",
         "rawType": "object",
         "type": "string"
        },
        {
         "name": "fuel_type",
         "rawType": "object",
         "type": "string"
        },
        {
         "name": "drivetrain",
         "rawType": "object",
         "type": "string"
        },
        {
         "name": "num_doors",
         "rawType": "float64",
         "type": "float"
        },
        {
         "name": "fuel_efficiency_mpg",
         "rawType": "float64",
         "type": "float"
        }
       ],
       "ref": "b6cb7438-3bdb-4c95-8542-468fdd163512",
       "rows": [
        [
         "0",
         "170",
         "3.0",
         "159.0",
         "3413.433758606219",
         "17.7",
         "2003",
         "Europe",
         "Gasoline",
         "All-wheel drive",
         "0.0",
         "13.231728906241411"
        ],
        [
         "1",
         "130",
         "5.0",
         "97.0",
         "3149.664934220036",
         "17.8",
         "2007",
         "USA",
         "Gasoline",
         "Front-wheel drive",
         "0.0",
         "13.688217435463793"
        ],
        [
         "2",
         "170",
         null,
         "78.0",
         "3079.03899736884",
         "15.1",
         "2018",
         "Europe",
         "Gasoline",
         "Front-wheel drive",
         "0.0",
         "14.246340998160866"
        ],
        [
         "3",
         "220",
         "4.0",
         null,
         "2542.392401828378",
         "20.2",
         "2009",
         "USA",
         "Diesel",
         "All-wheel drive",
         "2.0",
         "16.91273559598635"
        ],
        [
         "4",
         "210",
         "1.0",
         "140.0",
         "3460.870989989018",
         "14.4",
         "2009",
         "Europe",
         "Gasoline",
         "All-wheel drive",
         "2.0",
         "12.488369121964562"
        ]
       ],
       "shape": {
        "columns": 11,
        "rows": 5
       }
      },
      "text/html": [
       "<div>\n",
       "<style scoped>\n",
       "    .dataframe tbody tr th:only-of-type {\n",
       "        vertical-align: middle;\n",
       "    }\n",
       "\n",
       "    .dataframe tbody tr th {\n",
       "        vertical-align: top;\n",
       "    }\n",
       "\n",
       "    .dataframe thead th {\n",
       "        text-align: right;\n",
       "    }\n",
       "</style>\n",
       "<table border=\"1\" class=\"dataframe\">\n",
       "  <thead>\n",
       "    <tr style=\"text-align: right;\">\n",
       "      <th></th>\n",
       "      <th>engine_displacement</th>\n",
       "      <th>num_cylinders</th>\n",
       "      <th>horsepower</th>\n",
       "      <th>vehicle_weight</th>\n",
       "      <th>acceleration</th>\n",
       "      <th>model_year</th>\n",
       "      <th>origin</th>\n",
       "      <th>fuel_type</th>\n",
       "      <th>drivetrain</th>\n",
       "      <th>num_doors</th>\n",
       "      <th>fuel_efficiency_mpg</th>\n",
       "    </tr>\n",
       "  </thead>\n",
       "  <tbody>\n",
       "    <tr>\n",
       "      <th>0</th>\n",
       "      <td>170</td>\n",
       "      <td>3.0</td>\n",
       "      <td>159.0</td>\n",
       "      <td>3413.433759</td>\n",
       "      <td>17.7</td>\n",
       "      <td>2003</td>\n",
       "      <td>Europe</td>\n",
       "      <td>Gasoline</td>\n",
       "      <td>All-wheel drive</td>\n",
       "      <td>0.0</td>\n",
       "      <td>13.231729</td>\n",
       "    </tr>\n",
       "    <tr>\n",
       "      <th>1</th>\n",
       "      <td>130</td>\n",
       "      <td>5.0</td>\n",
       "      <td>97.0</td>\n",
       "      <td>3149.664934</td>\n",
       "      <td>17.8</td>\n",
       "      <td>2007</td>\n",
       "      <td>USA</td>\n",
       "      <td>Gasoline</td>\n",
       "      <td>Front-wheel drive</td>\n",
       "      <td>0.0</td>\n",
       "      <td>13.688217</td>\n",
       "    </tr>\n",
       "    <tr>\n",
       "      <th>2</th>\n",
       "      <td>170</td>\n",
       "      <td>NaN</td>\n",
       "      <td>78.0</td>\n",
       "      <td>3079.038997</td>\n",
       "      <td>15.1</td>\n",
       "      <td>2018</td>\n",
       "      <td>Europe</td>\n",
       "      <td>Gasoline</td>\n",
       "      <td>Front-wheel drive</td>\n",
       "      <td>0.0</td>\n",
       "      <td>14.246341</td>\n",
       "    </tr>\n",
       "    <tr>\n",
       "      <th>3</th>\n",
       "      <td>220</td>\n",
       "      <td>4.0</td>\n",
       "      <td>NaN</td>\n",
       "      <td>2542.392402</td>\n",
       "      <td>20.2</td>\n",
       "      <td>2009</td>\n",
       "      <td>USA</td>\n",
       "      <td>Diesel</td>\n",
       "      <td>All-wheel drive</td>\n",
       "      <td>2.0</td>\n",
       "      <td>16.912736</td>\n",
       "    </tr>\n",
       "    <tr>\n",
       "      <th>4</th>\n",
       "      <td>210</td>\n",
       "      <td>1.0</td>\n",
       "      <td>140.0</td>\n",
       "      <td>3460.870990</td>\n",
       "      <td>14.4</td>\n",
       "      <td>2009</td>\n",
       "      <td>Europe</td>\n",
       "      <td>Gasoline</td>\n",
       "      <td>All-wheel drive</td>\n",
       "      <td>2.0</td>\n",
       "      <td>12.488369</td>\n",
       "    </tr>\n",
       "  </tbody>\n",
       "</table>\n",
       "</div>"
      ],
      "text/plain": [
       "   engine_displacement  num_cylinders  horsepower  vehicle_weight  \\\n",
       "0                  170            3.0       159.0     3413.433759   \n",
       "1                  130            5.0        97.0     3149.664934   \n",
       "2                  170            NaN        78.0     3079.038997   \n",
       "3                  220            4.0         NaN     2542.392402   \n",
       "4                  210            1.0       140.0     3460.870990   \n",
       "\n",
       "   acceleration  model_year  origin fuel_type         drivetrain  num_doors  \\\n",
       "0          17.7        2003  Europe  Gasoline    All-wheel drive        0.0   \n",
       "1          17.8        2007     USA  Gasoline  Front-wheel drive        0.0   \n",
       "2          15.1        2018  Europe  Gasoline  Front-wheel drive        0.0   \n",
       "3          20.2        2009     USA    Diesel    All-wheel drive        2.0   \n",
       "4          14.4        2009  Europe  Gasoline    All-wheel drive        2.0   \n",
       "\n",
       "   fuel_efficiency_mpg  \n",
       "0            13.231729  \n",
       "1            13.688217  \n",
       "2            14.246341  \n",
       "3            16.912736  \n",
       "4            12.488369  "
      ]
     },
     "execution_count": 234,
     "metadata": {},
     "output_type": "execute_result"
    }
   ],
   "source": [
    "df = pd.read_csv('car_fuel_efficiency.csv')\n",
    "\n",
    "df.head()"
   ]
  },
  {
   "cell_type": "code",
   "execution_count": 235,
   "id": "4d920107",
   "metadata": {},
   "outputs": [
    {
     "name": "stdout",
     "output_type": "stream",
     "text": [
      "<class 'pandas.core.frame.DataFrame'>\n",
      "RangeIndex: 9704 entries, 0 to 9703\n",
      "Data columns (total 11 columns):\n",
      " #   Column               Non-Null Count  Dtype  \n",
      "---  ------               --------------  -----  \n",
      " 0   engine_displacement  9704 non-null   int64  \n",
      " 1   num_cylinders        9222 non-null   float64\n",
      " 2   horsepower           8996 non-null   float64\n",
      " 3   vehicle_weight       9704 non-null   float64\n",
      " 4   acceleration         8774 non-null   float64\n",
      " 5   model_year           9704 non-null   int64  \n",
      " 6   origin               9704 non-null   object \n",
      " 7   fuel_type            9704 non-null   object \n",
      " 8   drivetrain           9704 non-null   object \n",
      " 9   num_doors            9202 non-null   float64\n",
      " 10  fuel_efficiency_mpg  9704 non-null   float64\n",
      "dtypes: float64(6), int64(2), object(3)\n",
      "memory usage: 834.1+ KB\n"
     ]
    }
   ],
   "source": [
    "df.info()"
   ]
  },
  {
   "cell_type": "code",
   "execution_count": 236,
   "id": "61271a92",
   "metadata": {},
   "outputs": [
    {
     "data": {
      "application/vnd.microsoft.datawrangler.viewer.v0+json": {
       "columns": [
        {
         "name": "index",
         "rawType": "object",
         "type": "string"
        },
        {
         "name": "0",
         "rawType": "object",
         "type": "unknown"
        }
       ],
       "ref": "899d8e8b-7dab-42af-93d2-19e603aedda1",
       "rows": [
        [
         "origin",
         "object"
        ],
        [
         "fuel_type",
         "object"
        ],
        [
         "drivetrain",
         "object"
        ]
       ],
       "shape": {
        "columns": 1,
        "rows": 3
       }
      },
      "text/plain": [
       "origin        object\n",
       "fuel_type     object\n",
       "drivetrain    object\n",
       "dtype: object"
      ]
     },
     "execution_count": 236,
     "metadata": {},
     "output_type": "execute_result"
    }
   ],
   "source": [
    "df.dtypes[df.dtypes == 'object']"
   ]
  },
  {
   "cell_type": "code",
   "execution_count": 237,
   "id": "f28d95f9",
   "metadata": {},
   "outputs": [
    {
     "data": {
      "application/vnd.microsoft.datawrangler.viewer.v0+json": {
       "columns": [
        {
         "name": "index",
         "rawType": "object",
         "type": "string"
        },
        {
         "name": "0",
         "rawType": "object",
         "type": "unknown"
        }
       ],
       "ref": "edeae852-e489-42e9-b3e5-5e2f4d210dd4",
       "rows": [
        [
         "engine_displacement",
         "int64"
        ],
        [
         "model_year",
         "int64"
        ]
       ],
       "shape": {
        "columns": 1,
        "rows": 2
       }
      },
      "text/plain": [
       "engine_displacement    int64\n",
       "model_year             int64\n",
       "dtype: object"
      ]
     },
     "execution_count": 237,
     "metadata": {},
     "output_type": "execute_result"
    }
   ],
   "source": [
    "df.dtypes[df.dtypes == 'int64']"
   ]
  },
  {
   "cell_type": "code",
   "execution_count": 238,
   "id": "4bfd64e1",
   "metadata": {},
   "outputs": [
    {
     "data": {
      "application/vnd.microsoft.datawrangler.viewer.v0+json": {
       "columns": [
        {
         "name": "index",
         "rawType": "object",
         "type": "string"
        },
        {
         "name": "0",
         "rawType": "object",
         "type": "unknown"
        }
       ],
       "ref": "60ce4931-83d3-4cf6-951b-50f8a4025c2a",
       "rows": [
        [
         "num_cylinders",
         "float64"
        ],
        [
         "horsepower",
         "float64"
        ],
        [
         "vehicle_weight",
         "float64"
        ],
        [
         "acceleration",
         "float64"
        ],
        [
         "num_doors",
         "float64"
        ],
        [
         "fuel_efficiency_mpg",
         "float64"
        ]
       ],
       "shape": {
        "columns": 1,
        "rows": 6
       }
      },
      "text/plain": [
       "num_cylinders          float64\n",
       "horsepower             float64\n",
       "vehicle_weight         float64\n",
       "acceleration           float64\n",
       "num_doors              float64\n",
       "fuel_efficiency_mpg    float64\n",
       "dtype: object"
      ]
     },
     "execution_count": 238,
     "metadata": {},
     "output_type": "execute_result"
    }
   ],
   "source": [
    "df.dtypes[df.dtypes == 'float64']"
   ]
  },
  {
   "cell_type": "markdown",
   "id": "a1ec603b",
   "metadata": {},
   "source": [
    "### *`Data Preparation`*"
   ]
  },
  {
   "cell_type": "code",
   "execution_count": 239,
   "id": "f0ff8051",
   "metadata": {},
   "outputs": [
    {
     "data": {
      "application/vnd.microsoft.datawrangler.viewer.v0+json": {
       "columns": [
        {
         "name": "index",
         "rawType": "int64",
         "type": "integer"
        },
        {
         "name": "engine_displacement",
         "rawType": "int64",
         "type": "integer"
        },
        {
         "name": "horsepower",
         "rawType": "float64",
         "type": "float"
        },
        {
         "name": "vehicle_weight",
         "rawType": "float64",
         "type": "float"
        },
        {
         "name": "model_year",
         "rawType": "int64",
         "type": "integer"
        },
        {
         "name": "fuel_efficiency_mpg",
         "rawType": "float64",
         "type": "float"
        }
       ],
       "ref": "5091e955-03d7-4723-a280-62daafe66cee",
       "rows": [
        [
         "0",
         "170",
         "159.0",
         "3413.433758606219",
         "2003",
         "13.231728906241411"
        ],
        [
         "1",
         "130",
         "97.0",
         "3149.664934220036",
         "2007",
         "13.688217435463793"
        ],
        [
         "2",
         "170",
         "78.0",
         "3079.03899736884",
         "2018",
         "14.246340998160866"
        ],
        [
         "3",
         "220",
         null,
         "2542.392401828378",
         "2009",
         "16.91273559598635"
        ],
        [
         "4",
         "210",
         "140.0",
         "3460.870989989018",
         "2009",
         "12.488369121964562"
        ]
       ],
       "shape": {
        "columns": 5,
        "rows": 5
       }
      },
      "text/html": [
       "<div>\n",
       "<style scoped>\n",
       "    .dataframe tbody tr th:only-of-type {\n",
       "        vertical-align: middle;\n",
       "    }\n",
       "\n",
       "    .dataframe tbody tr th {\n",
       "        vertical-align: top;\n",
       "    }\n",
       "\n",
       "    .dataframe thead th {\n",
       "        text-align: right;\n",
       "    }\n",
       "</style>\n",
       "<table border=\"1\" class=\"dataframe\">\n",
       "  <thead>\n",
       "    <tr style=\"text-align: right;\">\n",
       "      <th></th>\n",
       "      <th>engine_displacement</th>\n",
       "      <th>horsepower</th>\n",
       "      <th>vehicle_weight</th>\n",
       "      <th>model_year</th>\n",
       "      <th>fuel_efficiency_mpg</th>\n",
       "    </tr>\n",
       "  </thead>\n",
       "  <tbody>\n",
       "    <tr>\n",
       "      <th>0</th>\n",
       "      <td>170</td>\n",
       "      <td>159.0</td>\n",
       "      <td>3413.433759</td>\n",
       "      <td>2003</td>\n",
       "      <td>13.231729</td>\n",
       "    </tr>\n",
       "    <tr>\n",
       "      <th>1</th>\n",
       "      <td>130</td>\n",
       "      <td>97.0</td>\n",
       "      <td>3149.664934</td>\n",
       "      <td>2007</td>\n",
       "      <td>13.688217</td>\n",
       "    </tr>\n",
       "    <tr>\n",
       "      <th>2</th>\n",
       "      <td>170</td>\n",
       "      <td>78.0</td>\n",
       "      <td>3079.038997</td>\n",
       "      <td>2018</td>\n",
       "      <td>14.246341</td>\n",
       "    </tr>\n",
       "    <tr>\n",
       "      <th>3</th>\n",
       "      <td>220</td>\n",
       "      <td>NaN</td>\n",
       "      <td>2542.392402</td>\n",
       "      <td>2009</td>\n",
       "      <td>16.912736</td>\n",
       "    </tr>\n",
       "    <tr>\n",
       "      <th>4</th>\n",
       "      <td>210</td>\n",
       "      <td>140.0</td>\n",
       "      <td>3460.870990</td>\n",
       "      <td>2009</td>\n",
       "      <td>12.488369</td>\n",
       "    </tr>\n",
       "  </tbody>\n",
       "</table>\n",
       "</div>"
      ],
      "text/plain": [
       "   engine_displacement  horsepower  vehicle_weight  model_year  \\\n",
       "0                  170       159.0     3413.433759        2003   \n",
       "1                  130        97.0     3149.664934        2007   \n",
       "2                  170        78.0     3079.038997        2018   \n",
       "3                  220         NaN     2542.392402        2009   \n",
       "4                  210       140.0     3460.870990        2009   \n",
       "\n",
       "   fuel_efficiency_mpg  \n",
       "0            13.231729  \n",
       "1            13.688217  \n",
       "2            14.246341  \n",
       "3            16.912736  \n",
       "4            12.488369  "
      ]
     },
     "execution_count": 239,
     "metadata": {},
     "output_type": "execute_result"
    }
   ],
   "source": [
    "df2 = df.loc[:, ['engine_displacement', 'horsepower', 'vehicle_weight', 'model_year', 'fuel_efficiency_mpg']]\n",
    "\n",
    "df2.head()"
   ]
  },
  {
   "cell_type": "markdown",
   "id": "a22191b4",
   "metadata": {},
   "source": [
    "*`Check Missing Values`*"
   ]
  },
  {
   "cell_type": "code",
   "execution_count": 240,
   "id": "6d2d3764",
   "metadata": {},
   "outputs": [
    {
     "data": {
      "application/vnd.microsoft.datawrangler.viewer.v0+json": {
       "columns": [
        {
         "name": "index",
         "rawType": "object",
         "type": "string"
        },
        {
         "name": "0",
         "rawType": "int64",
         "type": "integer"
        }
       ],
       "ref": "4e0fb3de-18a2-4477-9085-dba966560583",
       "rows": [
        [
         "engine_displacement",
         "0"
        ],
        [
         "horsepower",
         "708"
        ],
        [
         "vehicle_weight",
         "0"
        ],
        [
         "model_year",
         "0"
        ],
        [
         "fuel_efficiency_mpg",
         "0"
        ]
       ],
       "shape": {
        "columns": 1,
        "rows": 5
       }
      },
      "text/plain": [
       "engine_displacement      0\n",
       "horsepower             708\n",
       "vehicle_weight           0\n",
       "model_year               0\n",
       "fuel_efficiency_mpg      0\n",
       "dtype: int64"
      ]
     },
     "execution_count": 240,
     "metadata": {},
     "output_type": "execute_result"
    }
   ],
   "source": [
    "df2.isna().sum()"
   ]
  },
  {
   "cell_type": "code",
   "execution_count": 241,
   "id": "a1251cab",
   "metadata": {},
   "outputs": [],
   "source": [
    "df2['horsepower'] = df2['horsepower'].fillna(df2['horsepower'].mean())"
   ]
  },
  {
   "cell_type": "markdown",
   "id": "1cabe5e3",
   "metadata": {},
   "source": [
    "*`Check Duplicates`*"
   ]
  },
  {
   "cell_type": "code",
   "execution_count": 242,
   "id": "400b0123",
   "metadata": {},
   "outputs": [
    {
     "data": {
      "text/plain": [
       "np.int64(0)"
      ]
     },
     "execution_count": 242,
     "metadata": {},
     "output_type": "execute_result"
    }
   ],
   "source": [
    "df2.duplicated().sum()"
   ]
  },
  {
   "cell_type": "code",
   "execution_count": 243,
   "id": "6f33b088",
   "metadata": {},
   "outputs": [
    {
     "data": {
      "text/plain": [
       "149.65729212983547"
      ]
     },
     "execution_count": 243,
     "metadata": {},
     "output_type": "execute_result"
    }
   ],
   "source": [
    "# Median of Horse Power\n",
    "df2['horsepower'].median()"
   ]
  },
  {
   "cell_type": "markdown",
   "id": "66ac0eb6",
   "metadata": {},
   "source": [
    "*`Check Datatypes`*"
   ]
  },
  {
   "cell_type": "code",
   "execution_count": 244,
   "id": "6cf5ebc6",
   "metadata": {},
   "outputs": [
    {
     "name": "stdout",
     "output_type": "stream",
     "text": [
      "<class 'pandas.core.frame.DataFrame'>\n",
      "RangeIndex: 9704 entries, 0 to 9703\n",
      "Data columns (total 5 columns):\n",
      " #   Column               Non-Null Count  Dtype  \n",
      "---  ------               --------------  -----  \n",
      " 0   engine_displacement  9704 non-null   int64  \n",
      " 1   horsepower           9704 non-null   float64\n",
      " 2   vehicle_weight       9704 non-null   float64\n",
      " 3   model_year           9704 non-null   int64  \n",
      " 4   fuel_efficiency_mpg  9704 non-null   float64\n",
      "dtypes: float64(3), int64(2)\n",
      "memory usage: 379.2 KB\n"
     ]
    }
   ],
   "source": [
    "df2.info()"
   ]
  },
  {
   "cell_type": "markdown",
   "id": "b79a825c",
   "metadata": {},
   "source": [
    "### *`EDA`*"
   ]
  },
  {
   "cell_type": "markdown",
   "id": "8e0a21fb",
   "metadata": {},
   "source": [
    "*`Normal Distribution`*"
   ]
  },
  {
   "cell_type": "code",
   "execution_count": 245,
   "id": "1e0ba396",
   "metadata": {},
   "outputs": [
    {
     "data": {
      "image/png": "[encoded data removed]",
      "text/plain": [
       "<Figure size 640x480 with 1 Axes>"
      ]
     },
     "metadata": {},
     "output_type": "display_data"
    }
   ],
   "source": [
    "sns.histplot(df2, x='horsepower', kde=True)\n",
    "plt.show()"
   ]
  },
  {
   "cell_type": "markdown",
   "id": "34cb502c",
   "metadata": {},
   "source": [
    "*`Look at fuel_efficiency_mpg Distribution`*"
   ]
  },
  {
   "cell_type": "code",
   "execution_count": 246,
   "id": "97c6ea55",
   "metadata": {},
   "outputs": [
    {
     "data": {
      "image/png": "[encoded data removed]",
      "text/plain": [
       "<Figure size 640x480 with 1 Axes>"
      ]
     },
     "metadata": {},
     "output_type": "display_data"
    }
   ],
   "source": [
    "sns.histplot(df2, x='fuel_efficiency_mpg', kde=True)\n",
    "plt.show()"
   ]
  },
  {
   "cell_type": "markdown",
   "id": "960eb7d3",
   "metadata": {},
   "source": [
    "*`Doesnot have a Long Tail or Skewness -> Normal Distribution`*"
   ]
  },
  {
   "cell_type": "code",
   "execution_count": 247,
   "id": "827d73e0",
   "metadata": {},
   "outputs": [
    {
     "name": "stdout",
     "output_type": "stream",
     "text": [
      "engine_displacement -> 36\n",
      "[170 130 220 210 190]\n",
      "horsepower -> 193\n",
      "[159.          97.          78.         149.65729213 140.        ]\n",
      "vehicle_weight -> 9704\n",
      "[3413.43375861 3149.66493422 3079.03899737 2542.39240183 3460.87098999]\n",
      "model_year -> 24\n",
      "[2003 2007 2018 2009 2008]\n",
      "fuel_efficiency_mpg -> 9704\n",
      "[13.23172891 13.68821744 14.246341   16.9127356  12.48836912]\n"
     ]
    }
   ],
   "source": [
    "for col in df2.columns:\n",
    "    print(col, '->', df2[col].nunique())\n",
    "    print(df2[col].unique()[:5])"
   ]
  },
  {
   "cell_type": "markdown",
   "id": "5d614a96",
   "metadata": {},
   "source": [
    "*`Detect Outliers`*"
   ]
  },
  {
   "cell_type": "code",
   "execution_count": 248,
   "id": "c680b6ee",
   "metadata": {},
   "outputs": [
    {
     "name": "stdout",
     "output_type": "stream",
     "text": [
      "Number of Outliers = 120 in engine_displacement Column\n"
     ]
    },
    {
     "data": {
      "image/png": "[encoded data removed]",
      "text/plain": [
       "<Figure size 640x480 with 1 Axes>"
      ]
     },
     "metadata": {},
     "output_type": "display_data"
    },
    {
     "name": "stdout",
     "output_type": "stream",
     "text": [
      "Number of Outliers = 112 in horsepower Column\n"
     ]
    },
    {
     "data": {
      "image/png": "[encoded data removed]",
      "text/plain": [
       "<Figure size 640x480 with 1 Axes>"
      ]
     },
     "metadata": {},
     "output_type": "display_data"
    },
    {
     "name": "stdout",
     "output_type": "stream",
     "text": [
      "Number of Outliers = 69 in vehicle_weight Column\n"
     ]
    },
    {
     "data": {
      "image/png": "[encoded data removed]",
      "text/plain": [
       "<Figure size 640x480 with 1 Axes>"
      ]
     },
     "metadata": {},
     "output_type": "display_data"
    },
    {
     "name": "stdout",
     "output_type": "stream",
     "text": [
      "Number of Outliers = 83 in fuel_efficiency_mpg Column\n"
     ]
    },
    {
     "data": {
      "image/png": "[encoded data removed]",
      "text/plain": [
       "<Figure size 640x480 with 1 Axes>"
      ]
     },
     "metadata": {},
     "output_type": "display_data"
    }
   ],
   "source": [
    "for col in df2.columns:\n",
    "    q1 = df2[col].quantile(0.25)\n",
    "    q3 = df2[col].quantile(0.75)\n",
    "    iqr = q3 - q1\n",
    "\n",
    "    lower_bound = q1 - 1.5 * iqr\n",
    "    upper_bound = q3 + 1.5 * iqr\n",
    "\n",
    "    outliers = len(df2[(df2[col] < lower_bound) | (df2[col] > upper_bound)])\n",
    "    if outliers > 0:\n",
    "        print(f\"Number of Outliers = {outliers} in {col} Column\")\n",
    "        df2[col] = df2[col].clip(lower=lower_bound, upper=upper_bound)\n",
    "        sns.boxplot(df2, x=col)\n",
    "        plt.title(f\"Box plot of {col} after Outlier Clipping\")\n",
    "        plt.show()"
   ]
  },
  {
   "cell_type": "markdown",
   "id": "aaf8e014",
   "metadata": {},
   "source": [
    "### *`Validation Framework`*\n",
    "- Training set -> 60%\n",
    "- Validating set -> 20%\n",
    "- Testing set -> 20%"
   ]
  },
  {
   "cell_type": "code",
   "execution_count": 249,
   "id": "c0633d9a",
   "metadata": {},
   "outputs": [
    {
     "data": {
      "text/plain": [
       "(9704, 5822, 1940, 1940)"
      ]
     },
     "execution_count": 249,
     "metadata": {},
     "output_type": "execute_result"
    }
   ],
   "source": [
    "m = len(df2)    # df2.shape[0]\n",
    "\n",
    "m_train = int(0.6 * m)\n",
    "m_val = int(0.2 * m)\n",
    "m_test = int(0.2 * m)\n",
    "\n",
    "m, m_train, m_val, m_test"
   ]
  },
  {
   "cell_type": "code",
   "execution_count": 250,
   "id": "c67b66a2",
   "metadata": {},
   "outputs": [
    {
     "data": {
      "text/plain": [
       "(9704, 9702)"
      ]
     },
     "execution_count": 250,
     "metadata": {},
     "output_type": "execute_result"
    }
   ],
   "source": [
    "m, m_train+m_val+m_test"
   ]
  },
  {
   "cell_type": "markdown",
   "id": "7243c64a",
   "metadata": {},
   "source": [
    "*Solve this Error*"
   ]
  },
  {
   "cell_type": "code",
   "execution_count": 251,
   "id": "1187ee2b",
   "metadata": {},
   "outputs": [
    {
     "data": {
      "text/plain": [
       "(9704, 9704)"
      ]
     },
     "execution_count": 251,
     "metadata": {},
     "output_type": "execute_result"
    }
   ],
   "source": [
    "m_val = int(0.2 * m)\n",
    "m_test = int(0.2 * m)\n",
    "m_train = m - (m_val + m_test)\n",
    "\n",
    "m, m_train + m_val + m_test"
   ]
  },
  {
   "cell_type": "code",
   "execution_count": 252,
   "id": "7017d575",
   "metadata": {},
   "outputs": [],
   "source": [
    "df_train = df2.iloc[:m_train]\n",
    "df_val = df2.iloc[m_train: m_train+m_val]\n",
    "df_test = df2.iloc[m_train + m_val:]"
   ]
  },
  {
   "cell_type": "markdown",
   "id": "4f97ab9c",
   "metadata": {},
   "source": [
    "*`Let's Shuffle Them`*"
   ]
  },
  {
   "cell_type": "code",
   "execution_count": 253,
   "id": "50a86f33",
   "metadata": {},
   "outputs": [
    {
     "data": {
      "text/plain": [
       "array([   0,    1,    2, ..., 9701, 9702, 9703])"
      ]
     },
     "execution_count": 253,
     "metadata": {},
     "output_type": "execute_result"
    }
   ],
   "source": [
    "idx = np.arange(m)\n",
    "idx"
   ]
  },
  {
   "cell_type": "code",
   "execution_count": 254,
   "id": "bdf63b6c",
   "metadata": {},
   "outputs": [],
   "source": [
    "np.random.seed(42)\n",
    "np.random.shuffle(idx)"
   ]
  },
  {
   "cell_type": "code",
   "execution_count": 255,
   "id": "64659e4f",
   "metadata": {},
   "outputs": [],
   "source": [
    "df_train = df2.iloc[idx[m_train: ]]\n",
    "df_val = df2.iloc[idx[m_train: m_train+m_val ]]\n",
    "df_test = df2.iloc[idx[m_train+m_val: ]]"
   ]
  },
  {
   "cell_type": "code",
   "execution_count": 256,
   "id": "00f2be81",
   "metadata": {},
   "outputs": [
    {
     "data": {
      "text/plain": [
       "(3880, 1940, 1940)"
      ]
     },
     "execution_count": 256,
     "metadata": {},
     "output_type": "execute_result"
    }
   ],
   "source": [
    "len(df_train), len(df_val), len(df_test)"
   ]
  },
  {
   "cell_type": "code",
   "execution_count": 257,
   "id": "61586bfe",
   "metadata": {},
   "outputs": [],
   "source": [
    "y_train = df_train.fuel_efficiency_mpg.values\n",
    "y_val = df_val.fuel_efficiency_mpg.values\n",
    "y_test = df_test.fuel_efficiency_mpg.values"
   ]
  },
  {
   "cell_type": "code",
   "execution_count": 258,
   "id": "b78ab598",
   "metadata": {},
   "outputs": [],
   "source": [
    "del df_train['fuel_efficiency_mpg']\n",
    "del df_val['fuel_efficiency_mpg']\n",
    "del df_test['fuel_efficiency_mpg']"
   ]
  },
  {
   "cell_type": "markdown",
   "id": "391c83a6",
   "metadata": {},
   "source": [
    "### *`Linear Regression`*"
   ]
  },
  {
   "cell_type": "code",
   "execution_count": 259,
   "id": "68bcfed0",
   "metadata": {},
   "outputs": [],
   "source": [
    "def train_linear_regression(X, y):\n",
    "    ones = np.ones(X.shape[0])\n",
    "    X = np.column_stack([ones, X])\n",
    "\n",
    "    XTX = X.T.dot(X)\n",
    "    XTX_inv = np.linalg.inv(XTX)\n",
    "    w = XTX_inv.dot(X.T).dot(y)\n",
    "\n",
    "    return w[0], w[1:]"
   ]
  },
  {
   "cell_type": "code",
   "execution_count": 260,
   "id": "9abc3c97",
   "metadata": {},
   "outputs": [],
   "source": [
    "def rmse(y, y_pred):\n",
    "    se = (y - y_pred) ** 2\n",
    "    mse = se.mean()\n",
    "    return np.sqrt(mse)"
   ]
  },
  {
   "cell_type": "code",
   "execution_count": 261,
   "id": "bee4a1ff",
   "metadata": {},
   "outputs": [
    {
     "data": {
      "text/plain": [
       "(np.float64(25.986416604258757),\n",
       " array([ 0.00020484,  0.01004145, -0.00501793,  0.00125234]))"
      ]
     },
     "execution_count": 261,
     "metadata": {},
     "output_type": "execute_result"
    }
   ],
   "source": [
    "w0 , W = train_linear_regression(df_train, y_train)\n",
    "\n",
    "w0, W"
   ]
  },
  {
   "cell_type": "code",
   "execution_count": 262,
   "id": "e440a118",
   "metadata": {},
   "outputs": [
    {
     "data": {
      "text/plain": [
       "array([15.76728534, 14.83328297, 12.03090843, ..., 14.00238261,\n",
       "       13.71704028, 16.1997401 ])"
      ]
     },
     "execution_count": 262,
     "metadata": {},
     "output_type": "execute_result"
    }
   ],
   "source": [
    "y_pred = w0 + df_val.values.dot(W)\n",
    "y_pred"
   ]
  },
  {
   "cell_type": "code",
   "execution_count": 263,
   "id": "84297281",
   "metadata": {},
   "outputs": [
    {
     "data": {
      "image/png": "[encoded data removed]",
      "text/plain": [
       "<Figure size 600x400 with 1 Axes>"
      ]
     },
     "metadata": {},
     "output_type": "display_data"
    }
   ],
   "source": [
    "plt.figure(figsize=(6, 4))\n",
    "\n",
    "sns.histplot(y_val, label='target', color=\"#5F39B9\", alpha=0.6, bins=40)\n",
    "sns.histplot(y_pred, label='prediction', color=\"#64b37d\", alpha=0.8, bins=40)\n",
    "\n",
    "plt.legend()\n",
    "\n",
    "plt.ylabel('Frequency')\n",
    "plt.xlabel('Price')\n",
    "plt.title('Predictions vs actual distribution')\n",
    "\n",
    "plt.show()"
   ]
  },
  {
   "cell_type": "markdown",
   "id": "b82e99cf",
   "metadata": {},
   "source": [
    "*`For the case: Fill missings of 'horsepower' with mean`*"
   ]
  },
  {
   "cell_type": "code",
   "execution_count": 264,
   "id": "27f7ad4b",
   "metadata": {},
   "outputs": [
    {
     "data": {
      "text/plain": [
       "np.float64(0.46)"
      ]
     },
     "execution_count": 264,
     "metadata": {},
     "output_type": "execute_result"
    }
   ],
   "source": [
    "RMSE = rmse(y_val, y_pred)\n",
    "\n",
    "round(RMSE, 2)"
   ]
  },
  {
   "cell_type": "markdown",
   "id": "d090f33c",
   "metadata": {},
   "source": [
    "*`If we Fill missings in 'horsepower' column with 0`*"
   ]
  },
  {
   "cell_type": "code",
   "execution_count": 265,
   "id": "8b22af0c",
   "metadata": {},
   "outputs": [],
   "source": [
    "df2 = df.loc[:, ['engine_displacement', 'horsepower', 'vehicle_weight', 'model_year', 'fuel_efficiency_mpg']]\n",
    "\n",
    "df2['horsepower'] = df2['horsepower'].fillna(0)\n",
    "\n",
    "df_train = df2.iloc[idx[m_train:]]\n",
    "df_val = df2.iloc[idx[m_train: m_train+m_val]]\n",
    "df_test = df2.iloc[idx[m_train+m_val:]]\n",
    "\n",
    "y_train = df_train.fuel_efficiency_mpg.values\n",
    "y_val = df_val.fuel_efficiency_mpg.values\n",
    "y_test = df_test.fuel_efficiency_mpg.values\n",
    "\n",
    "del df_train['fuel_efficiency_mpg']\n",
    "del df_val['fuel_efficiency_mpg']\n",
    "del df_test['fuel_efficiency_mpg']"
   ]
  },
  {
   "cell_type": "code",
   "execution_count": 266,
   "id": "dc147499",
   "metadata": {},
   "outputs": [
    {
     "data": {
      "image/png": "[encoded data removed]",
      "text/plain": [
       "<Figure size 600x400 with 1 Axes>"
      ]
     },
     "metadata": {},
     "output_type": "display_data"
    }
   ],
   "source": [
    "w0, W = train_linear_regression(df_train, y_train)\n",
    "\n",
    "y_pred = w0 + df_val.values.dot(W)\n",
    "\n",
    "plt.figure(figsize=(6, 4))\n",
    "\n",
    "sns.histplot(y_val, label='target', color=\"#5F39B9\", alpha=0.6, bins=40)\n",
    "sns.histplot(y_pred, label='prediction', color=\"#64b37d\", alpha=0.8, bins=40)\n",
    "\n",
    "plt.legend()\n",
    "\n",
    "plt.ylabel('Frequency')\n",
    "plt.xlabel('Price')\n",
    "plt.title('Predictions vs actual distribution')\n",
    "\n",
    "plt.show()"
   ]
  },
  {
   "cell_type": "code",
   "execution_count": 267,
   "id": "ad463333",
   "metadata": {},
   "outputs": [
    {
     "data": {
      "text/plain": [
       "np.float64(0.52)"
      ]
     },
     "execution_count": 267,
     "metadata": {},
     "output_type": "execute_result"
    }
   ],
   "source": [
    "RMSE = rmse(y_val, y_pred)\n",
    "\n",
    "round(RMSE, 2)"
   ]
  },
  {
   "cell_type": "markdown",
   "id": "8b50ed5d",
   "metadata": {},
   "source": [
    "### *`Train with Regularized Linear Regression`*"
   ]
  },
  {
   "cell_type": "code",
   "execution_count": 268,
   "id": "c921b44d",
   "metadata": {},
   "outputs": [],
   "source": [
    "def train_linear_regression_reg(X, y, r=0.001):\n",
    "    ones = np.ones(X.shape[0])\n",
    "    X = np.column_stack([ones, X])\n",
    "\n",
    "    XTX = X.T.dot(X)\n",
    "    XTX = XTX + r * np.eye(XTX.shape[0])\n",
    "\n",
    "    XTX_inv = np.linalg.inv(XTX)\n",
    "    w_full = XTX_inv.dot(X.T).dot(y)\n",
    "\n",
    "    return w_full[0], w_full[1:]"
   ]
  },
  {
   "cell_type": "code",
   "execution_count": 269,
   "id": "035b21ad",
   "metadata": {},
   "outputs": [
    {
     "data": {
      "text/plain": [
       "np.float64(0.52)"
      ]
     },
     "execution_count": 269,
     "metadata": {},
     "output_type": "execute_result"
    }
   ],
   "source": [
    "w0, w = train_linear_regression_reg(df_train.values, y_train, r=0.1)\n",
    "y_pred = w0 + df_val.values.dot(w)\n",
    "\n",
    "round(rmse(y_val, y_pred), 2)"
   ]
  },
  {
   "cell_type": "code",
   "execution_count": 270,
   "id": "72460ef8",
   "metadata": {},
   "outputs": [
    {
     "name": "stdout",
     "output_type": "stream",
     "text": [
      "0  -->  0.52\n",
      "0.01  -->  0.52\n",
      "1  -->  0.52\n",
      "10  -->  0.52\n",
      "100  -->  0.52\n"
     ]
    }
   ],
   "source": [
    "for r in [0, 0.01, 1, 10, 100]:\n",
    "    w0, w = train_linear_regression_reg(df_train.values, y_train, r)\n",
    "    y_pred = w0 + df_val.values.dot(w)\n",
    "    score = rmse(y_val, y_pred)\n",
    "    print(r, ' --> ', round(score,2))"
   ]
  },
  {
   "cell_type": "code",
   "execution_count": 271,
   "id": "d438f84c",
   "metadata": {},
   "outputs": [
    {
     "name": "stdout",
     "output_type": "stream",
     "text": [
      "0.0\n"
     ]
    }
   ],
   "source": [
    "rmse_scores = []\n",
    "\n",
    "m = len(df2)\n",
    "m_train = int(0.6 * m)\n",
    "m_val = int(0.2 * m)\n",
    "m_test = m - m_train - m_val\n",
    "\n",
    "for seed in [0, 1, 2, 3, 4, 5, 6, 7, 8, 9]:\n",
    "    np.random.seed(seed)\n",
    "    df2 = df2.fillna(0)\n",
    "    idx = np.arange(m)\n",
    "    np.random.shuffle(idx)\n",
    "    df_train = df2.iloc[idx[:m_train]]\n",
    "    df_val = df2.iloc[idx[m_train: m_train+m_val]]\n",
    "    df_test = df2.iloc[idx[m_train+m_val:]]\n",
    "\n",
    "    y_train = df_train.fuel_efficiency_mpg.values\n",
    "    y_val = df_val.fuel_efficiency_mpg.values\n",
    "    y_test = df_test.fuel_efficiency_mpg.values\n",
    "    \n",
    "    w0, w = train_linear_regression(df_train, y_train)\n",
    "    y_pred = w0 + df_val.values.dot(w)\n",
    "    score = rmse(y_val, y_pred)\n",
    "    rmse_scores.append(score)\n",
    "\n",
    "std = np.std(rmse_scores)\n",
    "print(round(std, 3))"
   ]
  },
  {
   "cell_type": "code",
   "execution_count": 278,
   "id": "7977f565",
   "metadata": {},
   "outputs": [
    {
     "data": {
      "text/plain": [
       "np.float64(0.0)"
      ]
     },
     "execution_count": 278,
     "metadata": {},
     "output_type": "execute_result"
    }
   ],
   "source": [
    "m = len(df2)\n",
    "m_train = int(0.6 * m)\n",
    "m_val = int(0.2 * m)\n",
    "m_test = m - m_train - m_val\n",
    "\n",
    "np.random.seed(9)\n",
    "df2 = df2.fillna(0)\n",
    "idx = np.arange(m)\n",
    "np.random.shuffle(idx)\n",
    "df_train = df2.iloc[idx[:m_train]]\n",
    "df_val = df2.iloc[idx[m_train: m_train+m_val]]\n",
    "df_test = df2.iloc[idx[m_train+m_val:]]\n",
    "\n",
    "y_train = df_train.fuel_efficiency_mpg.values\n",
    "y_val = df_val.fuel_efficiency_mpg.values\n",
    "y_test = df_test.fuel_efficiency_mpg.values\n",
    "\n",
    "w0, w = train_linear_regression_reg(df_train, y_train, r=0.001)\n",
    "y_pred = w0 + df_val.values.dot(w)\n",
    "\n",
    "round(rmse(y_val, y_pred), 6)"
   ]
  }
 ],
 "metadata": {
  "kernelspec": {
   "display_name": "base",
   "language": "python",
   "name": "python3"
  },
  "language_info": {
   "codemirror_mode": {
    "name": "ipython",
    "version": 3
   },
   "file_extension": ".py",
   "mimetype": "text/x-python",
   "name": "python",
   "nbconvert_exporter": "python",
   "pygments_lexer": "ipython3",
   "version": "3.13.5"
  }
 },
 "nbformat": 4,
 "nbformat_minor": 5
}
